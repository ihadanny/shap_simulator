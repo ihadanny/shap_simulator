{
 "cells": [
  {
   "cell_type": "markdown",
   "metadata": {},
   "source": [
    "simplified version of https://arxiv.org/pdf/1706.06060.pdf, copied from https://github.com/dmlc/xgboost/commit/78c4188cec31425f708d238160ea3afb67a7250a#diff-2af51992b224dab28088fa806447d7c7R752  \n",
    "1. Features appear only once in the tree\n",
    "2. no missing features \n",
    "3. single tree"
   ]
  },
  {
   "cell_type": "code",
   "execution_count": 1,
   "metadata": {
    "collapsed": true
   },
   "outputs": [],
   "source": [
    "from __future__ import division\n"
   ]
  },
  {
   "cell_type": "code",
   "execution_count": 10,
   "metadata": {
    "collapsed": true
   },
   "outputs": [],
   "source": [
    "def ExtendPath(unique_path, unique_depth, zero_fraction, one_fraction, feature_index):\n",
    "    pe = {'feature_index': feature_index, 'zero_fraction': zero_fraction,\n",
    "          'one_fraction': one_fraction, 'pweight': 1 if unique_depth == 0 else 0}\n",
    "    unique_path.append(pe)\n",
    "    for i in range(unique_depth - 1, -1, -1):\n",
    "        unique_path[i+1]['pweight'] += one_fraction * unique_path[i]['pweight'] * (i+1) / (unique_depth+1) \n",
    "        unique_path[i]['pweight'] += zero_fraction * unique_path[i]['pweight'] * (unique_depth - i) / (unique_depth+1)\n",
    "    print(\"ExtendPath\", unique_path, unique_depth)\n"
   ]
  },
  {
   "cell_type": "code",
   "execution_count": 3,
   "metadata": {
    "collapsed": true
   },
   "outputs": [],
   "source": [
    "def UnwoundPathSum(unique_path, unique_depth, path_index):\n",
    "    print(\"UnwoundPathSum\", unique_path[path_index]['feature_index'], unique_depth)\n",
    "    one_fraction = unique_path[path_index]['one_fraction']\n",
    "    zero_fraction = unique_path[path_index]['zero_fraction']\n",
    "    next_one_portion = unique_path[unique_depth]['pweight']\n",
    "    total = 0;\n",
    "    for i in range(unique_depth-1, -1, -1):\n",
    "        if one_fraction != 0:\n",
    "            tmp = next_one_portion*(unique_depth+1) / ((i+1)*one_fraction)\n",
    "            total += tmp\n",
    "            next_one_portion = unique_path[i]['pweight'] - tmp*zero_fraction*((unique_depth-i) / (unique_depth+1))\n",
    "        else:\n",
    "            total += (unique_path[i]['pweight']/zero_fraction)/((unique_depth-i) / (unique_depth+1))\n",
    "    return total\n"
   ]
  },
  {
   "cell_type": "code",
   "execution_count": 4,
   "metadata": {
    "collapsed": true
   },
   "outputs": [],
   "source": [
    "def TreeShap(feat, phi, node_index, unique_depth, parent_unique_path, parent_zero_fraction,\n",
    "             parent_one_fraction, parent_feature_index):\n",
    "    node = nodes[node_index]\n",
    "    print(\"TreeShap\", node[\"split_index\"])\n",
    "    unique_path = [] \n",
    "    for el in parent_unique_path:\n",
    "        unique_path.append(el.copy())\n",
    "    ExtendPath(unique_path, unique_depth, parent_zero_fraction, parent_one_fraction, parent_feature_index)\n",
    "    #leaf node\n",
    "    if node['is_leaf']:\n",
    "        for i in range(1, unique_depth + 1):\n",
    "            w = UnwoundPathSum(unique_path, unique_depth, i)\n",
    "            el = unique_path[i]\n",
    "            print(node['split_index'], \"adding to\", el['feature_index'], 'w', w, 'one_fraction', el['one_fraction'], 'zero_fraction', el['zero_fraction'],\n",
    "                  'leaf_value', node['leaf_value'])\n",
    "            phi[el['feature_index']] += w*(el['one_fraction']-el['zero_fraction'])*node['leaf_value']\n",
    "    #internal node\n",
    "    else:\n",
    "        split_index = node['split_index']\n",
    "        #find which branch is \"hot\" (meaning x would follow it)\n",
    "        if feat[split_index]['fvalue'] < node['split_cond']:\n",
    "            hot_index, cold_index = node['cleft'], node['cright']\n",
    "        else:\n",
    "            hot_index, cold_index = node['cright'], node['cleft']\n",
    "        w = node['sum_hess']\n",
    "        hot_zero_fraction = nodes[hot_index]['sum_hess']/w\n",
    "        cold_zero_fraction = nodes[cold_index]['sum_hess']/w\n",
    "        incoming_zero_fraction = 1\n",
    "        incoming_one_fraction = 1\n",
    "        TreeShap(feat, phi, hot_index, unique_depth+1, unique_path, hot_zero_fraction*incoming_zero_fraction, incoming_one_fraction, split_index)\n",
    "        TreeShap(feat, phi, cold_index, unique_depth+1, unique_path, cold_zero_fraction*incoming_zero_fraction, 0, split_index);\n"
   ]
  },
  {
   "cell_type": "code",
   "execution_count": 5,
   "metadata": {
    "collapsed": true
   },
   "outputs": [],
   "source": [
    "def CalculateContributions(feat, root_id):\n",
    "    #find the expected value of the tree's predictions\n",
    "    base_value = 0.0\n",
    "    total_cover = 0\n",
    "    for node in nodes.values():\n",
    "        if node['is_leaf']:\n",
    "            cover = node['sum_hess']\n",
    "            base_value += cover*node['leaf_value']\n",
    "            total_cover += cover;\n",
    "    out_contribs = {k: 0 for k in feat.keys()}\n",
    "    out_contribs['bias'] = base_value / total_cover\n",
    "\n",
    "    unique_path_data = []\n",
    "    TreeShap(feat, out_contribs, root_id, 0, unique_path_data, 1, 1, -1)\n",
    "    return out_contribs\n"
   ]
  },
  {
   "cell_type": "code",
   "execution_count": 7,
   "metadata": {
    "collapsed": true
   },
   "outputs": [],
   "source": [
    "nodes = {\n",
    "    'A': {'split_index': 'A', 'cdefault': 'X1', 'cleft': 'X1', 'cright': 'X2', 'is_leaf': False, 'sum_hess': 1000, 'split_cond': 3},\n",
    "    'X1': {'split_index': 'X1', 'is_leaf': True, 'sum_hess': 500, 'leaf_value': 1},\n",
    "    'X2': {'split_index': 'X2', 'is_leaf': True, 'sum_hess': 500, 'leaf_value': 2},\n",
    "}\n"
   ]
  },
  {
   "cell_type": "code",
   "execution_count": 8,
   "metadata": {
    "collapsed": true
   },
   "outputs": [],
   "source": [
    "feat = {\n",
    "    'A': {'fvalue': 1},\n",
    "    'B': {'fvalue': 1},\n",
    "    'C': {'fvalue': 1},\n",
    "    'D': {'fvalue': 9999},\n",
    "    'E': {'fvalue': 9999},\n",
    "    'F': {'fvalue': 9999},\n",
    "}\n"
   ]
  },
  {
   "cell_type": "code",
   "execution_count": 11,
   "metadata": {
    "collapsed": false
   },
   "outputs": [
    {
     "name": "stdout",
     "output_type": "stream",
     "text": [
      "('TreeShap', 'A')\n",
      "('ExtendPath', [{'one_fraction': 1, 'zero_fraction': 1, 'feature_index': -1, 'pweight': 1}], 0)\n",
      "('TreeShap', 'X1')\n",
      "('ExtendPath', [{'one_fraction': 1, 'feature_index': -1, 'zero_fraction': 1, 'pweight': 1.25}, {'one_fraction': 1, 'zero_fraction': 0.5, 'feature_index': 'A', 'pweight': 0.5}], 1)\n",
      "('UnwoundPathSum', 'A', 1)\n",
      "('X1', 'adding to', 'A', 'w', 1.0, 'one_fraction', 1, 'zero_fraction', 0.5, 'leaf_value', 1)\n",
      "('TreeShap', 'X2')\n",
      "('ExtendPath', [{'one_fraction': 1, 'feature_index': -1, 'zero_fraction': 1, 'pweight': 1.25}, {'one_fraction': 0, 'zero_fraction': 0.5, 'feature_index': 'A', 'pweight': 0.0}], 1)\n",
      "('UnwoundPathSum', 'A', 1)\n",
      "('X2', 'adding to', 'A', 'w', 5.0, 'one_fraction', 0, 'zero_fraction', 0.5, 'leaf_value', 2)\n",
      "('CalculateContributions', {'A': -4.5, 'C': 0, 'B': 0, 'E': 0, 'D': 0, 'F': 0, 'bias': 1.5}, -3.0)\n"
     ]
    }
   ],
   "source": [
    "out_contribs = CalculateContributions(feat, 'A')\n",
    "print(\"CalculateContributions\", out_contribs, sum(out_contribs.values()))\n"
   ]
  },
  {
   "cell_type": "code",
   "execution_count": 12,
   "metadata": {
    "collapsed": true
   },
   "outputs": [],
   "source": [
    "def GetNext(feat, my_node):\n",
    "    cur_feat = my_node['split_index']\n",
    "    my_val = feat[cur_feat]['fvalue']\n",
    "    if my_val < my_node['split_cond']:\n",
    "        return my_node['cleft']\n",
    "    else:\n",
    "        return my_node['cright']\n",
    "    \n",
    "def Predict(feat, node_id):\n",
    "    my_node = nodes[node_id]\n",
    "    if my_node['is_leaf']:\n",
    "        return my_node['leaf_value']\n",
    "    else:\n",
    "        return Predict(feat, GetNext(feat, my_node))\n"
   ]
  },
  {
   "cell_type": "code",
   "execution_count": 13,
   "metadata": {
    "collapsed": true
   },
   "outputs": [],
   "source": [
    "node_mean_values = {}\n",
    "def FillNodeMeanValue(node_id):\n",
    "    my_node = nodes[node_id]\n",
    "    if my_node['is_leaf']:\n",
    "        res = my_node['leaf_value']\n",
    "    else:\n",
    "        res = FillNodeMeanValue(my_node['cleft']) * nodes[my_node['cleft']]['sum_hess']\n",
    "        res += FillNodeMeanValue(my_node['cright']) * nodes[my_node['cright']]['sum_hess']\n",
    "        res /= my_node['sum_hess']\n",
    "    node_mean_values[node_id] = res    \n",
    "    return node_mean_values[node_id]\n"
   ]
  },
  {
   "cell_type": "code",
   "execution_count": 14,
   "metadata": {
    "collapsed": true
   },
   "outputs": [],
   "source": [
    "def CalculateContributionsApprox(feat, root_id):\n",
    "    FillNodeMeanValue(root_id)\n",
    "    out_contribs = {k: 0 for k in feat.keys()}\n",
    "    pid = root_id\n",
    "    node_value = node_mean_values[root_id]\n",
    "    out_contribs['bias'] = node_value \n",
    "    if nodes[pid]['is_leaf']:\n",
    "        return\n",
    "    while(not nodes[pid]['is_leaf']):\n",
    "        split_index = nodes[pid]['split_index']\n",
    "        pid = GetNext(feat, nodes[pid])\n",
    "        new_value = node_mean_values[pid]\n",
    "        out_contribs[split_index] += new_value - node_value\n",
    "        node_value = new_value\n",
    "    leaf_value = nodes[pid]['leaf_value']\n",
    "    out_contribs[split_index] += leaf_value - node_value\n",
    "    return out_contribs\n"
   ]
  },
  {
   "cell_type": "code",
   "execution_count": 15,
   "metadata": {
    "collapsed": false
   },
   "outputs": [
    {
     "name": "stdout",
     "output_type": "stream",
     "text": [
      "('Predict', 1)\n",
      "('CalculateContributionsApprox', {'A': -0.5, 'C': 0, 'B': 0, 'E': 0, 'D': 0, 'F': 0, 'bias': 1.5}, 1.0)\n"
     ]
    }
   ],
   "source": [
    "print('Predict', Predict(feat, 'A'))\n",
    "\n",
    "out_contribs = CalculateContributionsApprox(feat, 'A')\n",
    "print(\"CalculateContributionsApprox\", out_contribs, sum(out_contribs.values()))\n"
   ]
  },
  {
   "cell_type": "code",
   "execution_count": null,
   "metadata": {
    "collapsed": true
   },
   "outputs": [],
   "source": []
  }
 ],
 "metadata": {
  "kernelspec": {
   "display_name": "Python 2",
   "language": "python",
   "name": "python2"
  },
  "language_info": {
   "codemirror_mode": {
    "name": "ipython",
    "version": 2
   },
   "file_extension": ".py",
   "mimetype": "text/x-python",
   "name": "python",
   "nbconvert_exporter": "python",
   "pygments_lexer": "ipython2",
   "version": "2.7.11"
  }
 },
 "nbformat": 4,
 "nbformat_minor": 0
}
