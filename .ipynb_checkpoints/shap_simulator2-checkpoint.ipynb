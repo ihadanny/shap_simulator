{
 "cells": [
  {
   "cell_type": "code",
   "execution_count": 104,
   "metadata": {
    "collapsed": false
   },
   "outputs": [],
   "source": [
    "from __future__ import division\n",
    "from __future__ import print_function\n",
    "import sklearn.ensemble\n",
    "import numpy as np\n",
    "import time"
   ]
  },
  {
   "cell_type": "code",
   "execution_count": 105,
   "metadata": {
    "collapsed": true
   },
   "outputs": [],
   "source": [
    "def compute_expectations(children_left, children_right, node_sample_weight, values, i, depth=0):\n",
    "    if children_right[i] == -1:\n",
    "        values[i] = values[i]\n",
    "        return 0\n",
    "    else:\n",
    "        li = children_left[i]\n",
    "        ri = children_right[i]\n",
    "        depth_left = compute_expectations(children_left, children_right, node_sample_weight, values, li, depth + 1)\n",
    "        depth_right = compute_expectations(children_left, children_right, node_sample_weight, values, ri, depth + 1)\n",
    "        left_weight = node_sample_weight[li]\n",
    "        right_weight = node_sample_weight[ri]\n",
    "        v = (left_weight * values[li] + right_weight * values[ri]) / (left_weight + right_weight)\n",
    "        values[i] = v\n",
    "        return max(depth_left, depth_right) + 1\n",
    "\n"
   ]
  },
  {
   "cell_type": "code",
   "execution_count": 106,
   "metadata": {
    "collapsed": true
   },
   "outputs": [],
   "source": [
    "class Tree:\n",
    "    def __init__(self, children_left, children_right, children_default, feature, threshold, value, node_sample_weight):\n",
    "        self.children_left = children_left.astype(np.int32)\n",
    "        self.children_right = children_right.astype(np.int32)\n",
    "        self.children_default = children_default.astype(np.int32)\n",
    "        self.features = feature.astype(np.int32)\n",
    "        self.thresholds = threshold\n",
    "        self.values = value\n",
    "        self.node_sample_weight = node_sample_weight\n",
    "        \n",
    "        self.max_depth = compute_expectations(\n",
    "            self.children_left, self.children_right, self.node_sample_weight,\n",
    "            self.values, 0\n",
    "        )\n",
    "    "
   ]
  },
  {
   "cell_type": "code",
   "execution_count": 107,
   "metadata": {
    "collapsed": true
   },
   "outputs": [],
   "source": [
    "def extend_path(feature_indexes, zero_fractions, one_fractions, pweights,\n",
    "                unique_depth, zero_fraction, one_fraction, feature_index):\n",
    "    feature_indexes[unique_depth] = feature_index\n",
    "    zero_fractions[unique_depth] = zero_fraction\n",
    "    one_fractions[unique_depth] = one_fraction\n",
    "    if unique_depth == 0: \n",
    "        pweights[unique_depth] = 1\n",
    "    else:\n",
    "        pweights[unique_depth] = 0\n",
    "    \n",
    "    for i in range(unique_depth - 1, -1, -1):\n",
    "        pweights[i+1] += one_fraction * pweights[i] * (i + 1) / (unique_depth + 1)\n",
    "        pweights[i] = zero_fraction * pweights[i] * (unique_depth - i) / (unique_depth + 1)\n",
    "    print(\"extend_path\", pweights, unique_depth)\n"
   ]
  },
  {
   "cell_type": "code",
   "execution_count": 108,
   "metadata": {
    "collapsed": true
   },
   "outputs": [],
   "source": [
    "def unwound_path_sum(feature_indexes, zero_fractions, one_fractions, pweights, unique_depth, path_index):\n",
    "    print(\"unwound_path_sum\", pweights, unique_depth)\n",
    "    one_fraction = one_fractions[path_index]\n",
    "    zero_fraction = zero_fractions[path_index]\n",
    "    next_one_portion = pweights[unique_depth]\n",
    "    total = 0\n",
    "    \n",
    "    for i in range(unique_depth - 1, -1, -1):\n",
    "        if one_fraction != 0:\n",
    "            tmp = next_one_portion * (unique_depth + 1) / ((i + 1) * one_fraction)\n",
    "            total += tmp;\n",
    "            next_one_portion = pweights[i] - tmp * zero_fraction * ((unique_depth - i) / (unique_depth + 1))\n",
    "        else:\n",
    "            total += (pweights[i] / zero_fraction) / ((unique_depth - i) / (unique_depth + 1))\n",
    "\n",
    "    return total"
   ]
  },
  {
   "cell_type": "code",
   "execution_count": 109,
   "metadata": {
    "collapsed": true
   },
   "outputs": [],
   "source": [
    "def tree_shap_recursive(children_left, children_right, children_default, features, thresholds, values, node_sample_weight,\n",
    "                        x, x_missing, phi, node_index, unique_depth, parent_feature_indexes,\n",
    "                        parent_zero_fractions, parent_one_fractions, parent_pweights, parent_zero_fraction,\n",
    "                        parent_one_fraction, parent_feature_index, condition, condition_feature, condition_fraction):\n",
    "\n",
    "    # stop if we have no weight coming down to us\n",
    "    if condition_fraction == 0:\n",
    "        return\n",
    "\n",
    "    # extend the unique path\n",
    "    feature_indexes = parent_feature_indexes[unique_depth + 1:]\n",
    "    feature_indexes[:unique_depth + 1] = parent_feature_indexes[:unique_depth + 1]\n",
    "    zero_fractions = parent_zero_fractions[unique_depth + 1:]\n",
    "    zero_fractions[:unique_depth + 1] = parent_zero_fractions[:unique_depth + 1]\n",
    "    one_fractions = parent_one_fractions[unique_depth + 1:]\n",
    "    one_fractions[:unique_depth + 1] = parent_one_fractions[:unique_depth + 1]\n",
    "    pweights = parent_pweights[unique_depth + 1:]\n",
    "    pweights[:unique_depth + 1] = parent_pweights[:unique_depth + 1]\n",
    "\n",
    "    if condition == 0 or condition_feature != parent_feature_index:\n",
    "        extend_path(\n",
    "            feature_indexes, zero_fractions, one_fractions, pweights,\n",
    "            unique_depth, parent_zero_fraction, parent_one_fraction, parent_feature_index\n",
    "        )\n",
    "\n",
    "    split_index = features[node_index]\n",
    "\n",
    "    # leaf node\n",
    "    if children_right[node_index] == -1:\n",
    "        for i in range(1, unique_depth+1):\n",
    "            w = unwound_path_sum(feature_indexes, zero_fractions, one_fractions, pweights, unique_depth, i)\n",
    "            phi[feature_indexes[i]] += w * (one_fractions[i] - zero_fractions[i]) * values[node_index] * condition_fraction\n",
    "\n",
    "    # internal node\n",
    "    else:\n",
    "        # find which branch is \"hot\" (meaning x would follow it)\n",
    "        hot_index = 0\n",
    "        cleft = children_left[node_index]\n",
    "        cright = children_right[node_index]\n",
    "        if x_missing[split_index] == 1:\n",
    "            hot_index = children_default[node_index]\n",
    "        elif x[split_index] < thresholds[node_index]:\n",
    "            hot_index = cleft\n",
    "        else:\n",
    "            hot_index = cright\n",
    "        cold_index = (cright if hot_index == cleft else cleft)\n",
    "        w = node_sample_weight[node_index]\n",
    "        hot_zero_fraction = node_sample_weight[hot_index] / w\n",
    "        cold_zero_fraction = node_sample_weight[cold_index] / w\n",
    "        incoming_zero_fraction = 1\n",
    "        incoming_one_fraction = 1\n",
    "\n",
    "        # see if we have already split on this feature,\n",
    "        # if so we undo that split so we can redo it for this node\n",
    "        path_index = 0\n",
    "        while (path_index <= unique_depth):\n",
    "            if feature_indexes[path_index] == split_index:\n",
    "                break\n",
    "            path_index += 1\n",
    "\n",
    "        if path_index != unique_depth + 1:\n",
    "            incoming_zero_fraction = zero_fractions[path_index]\n",
    "            incoming_one_fraction = one_fractions[path_index]\n",
    "            unwind_path(feature_indexes, zero_fractions, one_fractions, pweights, unique_depth, path_index)\n",
    "            unique_depth -= 1\n",
    "\n",
    "        # divide up the condition_fraction among the recursive calls\n",
    "        hot_condition_fraction = condition_fraction\n",
    "        cold_condition_fraction = condition_fraction\n",
    "        if condition > 0 and split_index == condition_feature:\n",
    "            cold_condition_fraction = 0;\n",
    "            unique_depth -= 1\n",
    "        elif condition < 0 and split_index == condition_feature:\n",
    "            hot_condition_fraction *= hot_zero_fraction\n",
    "            cold_condition_fraction *= cold_zero_fraction\n",
    "            unique_depth -= 1\n",
    "\n",
    "        tree_shap_recursive(\n",
    "            children_left, children_right, children_default, features, thresholds, values, node_sample_weight,\n",
    "            x, x_missing, phi, hot_index, unique_depth + 1,\n",
    "            feature_indexes, zero_fractions, one_fractions, pweights,\n",
    "            hot_zero_fraction * incoming_zero_fraction, incoming_one_fraction,\n",
    "            split_index, condition, condition_feature, hot_condition_fraction\n",
    "        )\n",
    "\n",
    "        tree_shap_recursive(\n",
    "            children_left, children_right, children_default, features, thresholds, values, node_sample_weight,\n",
    "            x, x_missing, phi, cold_index, unique_depth + 1,\n",
    "            feature_indexes, zero_fractions, one_fractions, pweights,\n",
    "            cold_zero_fraction * incoming_zero_fraction, 0,\n",
    "            split_index, condition, condition_feature, cold_condition_fraction\n",
    "        )\n"
   ]
  },
  {
   "cell_type": "code",
   "execution_count": 110,
   "metadata": {
    "collapsed": true
   },
   "outputs": [],
   "source": [
    "class TreeExplainer:\n",
    "    def __init__(self, model, **kwargs):\n",
    "        \n",
    "        if str(type(model)).endswith(\"sklearn.ensemble.forest.RandomForestRegressor'>\"):\n",
    "            self.trees = [Tree(e.tree_) for e in model.estimators_]\n",
    "        else:\n",
    "            self.trees = [model]\n",
    "            \n",
    "        # Preallocate space for the unique path data\n",
    "        maxd = np.max([t.max_depth for t in self.trees]) + 2\n",
    "        print(maxd)\n",
    "        s = (maxd * (maxd + 1)) // 2\n",
    "        self.feature_indexes = np.zeros(s, dtype=np.int32)\n",
    "        self.zero_fractions = np.zeros(s, dtype=np.float64)\n",
    "        self.one_fractions = np.zeros(s, dtype=np.float64)\n",
    "        self.pweights = np.zeros(s, dtype=np.float64)\n",
    "\n",
    "    def shap_values(self, X, **kwargs):\n",
    "        # convert dataframes\n",
    "        if str(type(X)).endswith(\"pandas.core.series.Series'>\"):\n",
    "            X = X.as_matrix()\n",
    "        elif str(type(X)).endswith(\"'pandas.core.frame.DataFrame'>\"):\n",
    "            X = X.as_matrix()\n",
    "\n",
    "        assert str(type(X)).endswith(\"'numpy.ndarray'>\"), \"Unknown instance type: \" + str(type(X))\n",
    "        assert len(X.shape) == 1 or len(X.shape) == 2, \"Instance must have 1 or 2 dimensions!\"\n",
    "\n",
    "        # single instance\n",
    "        if len(X.shape) == 1:\n",
    "            phi = np.zeros(X.shape[0] + 1)\n",
    "            x_missing = np.zeros(X.shape[0], dtype=np.bool)\n",
    "            for t in self.trees:\n",
    "                self.tree_shap(t, X, x_missing, phi)\n",
    "            phi /= len(self.trees)\n",
    "        elif len(X.shape) == 2:\n",
    "            phi = np.zeros((X.shape[0], X.shape[1] + 1))\n",
    "            x_missing = np.zeros(X.shape[1], dtype=np.bool)\n",
    "            for i in range(X.shape[0]):\n",
    "                for t in self.trees:\n",
    "                    self.tree_shap(t, X[i,:], x_missing, phi[i,:])\n",
    "            phi /= len(self.trees)\n",
    "        return phi\n",
    "    \n",
    "    def tree_shap(self, tree, x, x_missing, phi, condition=0, condition_feature=0):\n",
    "\n",
    "        # update the bias term, which is the last index in phi\n",
    "        # (note the paper has this as phi_0 instead of phi_M)\n",
    "        if condition == 0:\n",
    "            phi[-1] += tree.values[0]\n",
    "\n",
    "        # start the recursive algorithm\n",
    "        tree_shap_recursive(\n",
    "            tree.children_left, tree.children_right, tree.children_default, tree.features,\n",
    "            tree.thresholds, tree.values, tree.node_sample_weight,\n",
    "            x, x_missing, phi, 0, 0, self.feature_indexes, self.zero_fractions, self.one_fractions, self.pweights,\n",
    "            1, 1, -1, condition, condition_feature, 1\n",
    "        )"
   ]
  },
  {
   "cell_type": "code",
   "execution_count": 111,
   "metadata": {
    "collapsed": true
   },
   "outputs": [],
   "source": [
    "#      0\n",
    "#   /    \\\n",
    "#  1       2\n",
    "#       /    \\\n",
    "#      3      4\n",
    "#           /  \\\n",
    "#          5    6"
   ]
  },
  {
   "cell_type": "code",
   "execution_count": 112,
   "metadata": {
    "collapsed": false
   },
   "outputs": [
    {
     "name": "stdout",
     "output_type": "stream",
     "text": [
      "values [250 100 300 200 350 300 400]\n"
     ]
    }
   ],
   "source": [
    "\n",
    "children_left = np.array([1, -1, 3, -1, 5, -1, -1])\n",
    "children_right = np.array([2, -1, 4, -1, 6, -1, -1])\n",
    "features = np.array([0, -1, 1, -1, 2, -1, -1])\n",
    "thresholds = np.array([999, -1, 999, -1, 999, -1, -1])\n",
    "values = np.array([-1, 100, -1, 200, -1, 300, 400])\n",
    "node_sample_weight = np.array([100, 25, 75, 25, 50, 25, 25])\n",
    "tree = Tree(children_left, children_right, children_left, features, thresholds, values, node_sample_weight)\n",
    "print(\"values\", tree.values)"
   ]
  },
  {
   "cell_type": "code",
   "execution_count": 113,
   "metadata": {
    "collapsed": false
   },
   "outputs": [
    {
     "name": "stdout",
     "output_type": "stream",
     "text": [
      "5\n"
     ]
    }
   ],
   "source": [
    "ex = TreeExplainer(tree)"
   ]
  },
  {
   "cell_type": "code",
   "execution_count": 119,
   "metadata": {
    "collapsed": false
   },
   "outputs": [
    {
     "name": "stdout",
     "output_type": "stream",
     "text": [
      "extend_path [ 1.          0.          0.375       0.          0.          0.08333333\n",
      "  0.          0.          0.          0.0625      0.03125     0.          0.\n",
      "  0.        ] 0\n",
      "extend_path [ 0.125       0.5         0.          0.08333333  0.          0.          0.\n",
      "  0.0625      0.03125     0.          0.          0.        ] 1\n",
      "unwound_path_sum [ 0.125       0.5         0.          0.08333333  0.          0.          0.\n",
      "  0.0625      0.03125     0.          0.          0.        ] 1\n",
      "extend_path [ 0.375       0.          0.          0.08333333  0.          0.          0.\n",
      "  0.0625      0.03125     0.          0.          0.        ] 1\n",
      "extend_path [ 0.08333333  0.125       0.          0.          0.0625      0.03125     0.\n",
      "  0.          0.        ] 2\n",
      "unwound_path_sum [ 0.08333333  0.125       0.          0.          0.0625      0.03125     0.\n",
      "  0.          0.        ] 2\n",
      "unwound_path_sum [ 0.08333333  0.125       0.          0.          0.0625      0.03125     0.\n",
      "  0.          0.        ] 2\n",
      "extend_path [ 0.16666667  0.          0.          0.          0.0625      0.03125     0.\n",
      "  0.          0.        ] 2\n",
      "extend_path [ 0.0625      0.04166667  0.          0.          0.        ] 3\n",
      "unwound_path_sum [ 0.0625      0.04166667  0.          0.          0.        ] 3\n",
      "unwound_path_sum [ 0.0625      0.04166667  0.          0.          0.        ] 3\n",
      "unwound_path_sum [ 0.0625      0.04166667  0.          0.          0.        ] 3\n",
      "extend_path [ 0.0625  0.      0.      0.      0.    ] 3\n",
      "unwound_path_sum [ 0.0625  0.      0.      0.      0.    ] 3\n",
      "unwound_path_sum [ 0.0625  0.      0.      0.      0.    ] 3\n",
      "unwound_path_sum [ 0.0625  0.      0.      0.      0.    ] 3\n"
     ]
    },
    {
     "data": {
      "text/plain": [
       "array([-108.33333333,  -33.33333333,   -8.33333333,    0.        ,\n",
       "          0.        ,  250.        ])"
      ]
     },
     "execution_count": 119,
     "metadata": {},
     "output_type": "execute_result"
    }
   ],
   "source": [
    "ex.shap_values(np.array([0, 111, 222, 333, 444]))\n"
   ]
  },
  {
   "cell_type": "code",
   "execution_count": 116,
   "metadata": {
    "collapsed": false
   },
   "outputs": [
    {
     "data": {
      "text/plain": [
       "-5298.889999999999"
      ]
     },
     "execution_count": 116,
     "metadata": {},
     "output_type": "execute_result"
    }
   ],
   "source": [
    "250 - 108*0 - 33.33 * 111 - 8.33 * 222 "
   ]
  },
  {
   "cell_type": "code",
   "execution_count": null,
   "metadata": {
    "collapsed": true
   },
   "outputs": [],
   "source": []
  }
 ],
 "metadata": {
  "kernelspec": {
   "display_name": "Python 2",
   "language": "python",
   "name": "python2"
  },
  "language_info": {
   "codemirror_mode": {
    "name": "ipython",
    "version": 2
   },
   "file_extension": ".py",
   "mimetype": "text/x-python",
   "name": "python",
   "nbconvert_exporter": "python",
   "pygments_lexer": "ipython2",
   "version": "2.7.11"
  }
 },
 "nbformat": 4,
 "nbformat_minor": 0
}
